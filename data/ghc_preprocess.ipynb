{
 "cells": [
  {
   "cell_type": "code",
   "execution_count": 1,
   "metadata": {},
   "outputs": [],
   "source": [
    "import csv"
   ]
  },
  {
   "cell_type": "code",
   "execution_count": 62,
   "metadata": {},
   "outputs": [],
   "source": [
    "f = open(\"gab.tsv\")\n",
    "gab_reader = csv.reader(f, delimiter='\\t')\n",
    "for row in gab_reader:\n",
    "    headers_list = row\n",
    "    break"
   ]
  },
  {
   "cell_type": "code",
   "execution_count": 63,
   "metadata": {},
   "outputs": [],
   "source": [
    "gab_list = list()\n",
    "for row in gab_reader:\n",
    "    gab = dict()\n",
    "    for i, header in enumerate(headers_list):\n",
    "        gab[header] = row[i]\n",
    "    gab_list.append(gab)"
   ]
  },
  {
   "cell_type": "code",
   "execution_count": 64,
   "metadata": {},
   "outputs": [
    {
     "data": {
      "text/plain": [
       "86529"
      ]
     },
     "execution_count": 64,
     "metadata": {},
     "output_type": "execute_result"
    }
   ],
   "source": [
    "len(gab_list)"
   ]
  },
  {
   "cell_type": "code",
   "execution_count": 65,
   "metadata": {},
   "outputs": [],
   "source": [
    "headers = headers_list"
   ]
  },
  {
   "cell_type": "code",
   "execution_count": 66,
   "metadata": {},
   "outputs": [],
   "source": [
    "for gab in gab_list:\n",
    "    for i in range(3,17):\n",
    "        if gab[headers_list[i]]=='0' or gab[headers_list[i]]=='' or gab[headers_list[i]]=='0.0' or gab[headers_list[i]]==0:\n",
    "            gab[headers_list[i]]=0\n",
    "        elif gab[headers_list[i]]=='1' or gab[headers_list[i]]=='1.0' or gab[headers_list[i]]==1:\n",
    "            gab[headers_list[i]]=1\n",
    "        else:\n",
    "            if gab[headers_list[i]].startswith('0'):\n",
    "                gab[headers_list[i]]=0\n",
    "            elif gab[headers_list[i]].startswith('1'):\n",
    "                gab[headers_list[i]]=1\n",
    "            else:\n",
    "                print(gab)"
   ]
  },
  {
   "cell_type": "code",
   "execution_count": 67,
   "metadata": {},
   "outputs": [
    {
     "data": {
      "text/plain": [
       "{'ID': '27044',\n",
       " 'Annotator': '4',\n",
       " 'Text': 'Ah the PSYOPS antifa crew is back. That’s how I know we are winning.',\n",
       " 'Hate': 0,\n",
       " 'HD': 0,\n",
       " 'CV': 0,\n",
       " 'VO': 0,\n",
       " 'REL': 0,\n",
       " 'RAE': 0,\n",
       " 'SXO': 0,\n",
       " 'GEN': 0,\n",
       " 'IDL': 0,\n",
       " 'NAT': 0,\n",
       " 'POL': 0,\n",
       " 'MPH': 0,\n",
       " 'EX': 0,\n",
       " 'IM': 0}"
      ]
     },
     "execution_count": 67,
     "metadata": {},
     "output_type": "execute_result"
    }
   ],
   "source": [
    "gab_list[0]"
   ]
  },
  {
   "cell_type": "code",
   "execution_count": 68,
   "metadata": {},
   "outputs": [],
   "source": [
    "# gab preprocess\n",
    "anno_cnt = 0\n",
    "cur_id = 0\n",
    "gab_corpus = list()\n",
    "for gab in gab_list:\n",
    "    if cur_id == 0:\n",
    "        cur_gab = gab\n",
    "        cur_id = gab['ID']\n",
    "        continue\n",
    "    if cur_id != gab['ID']:\n",
    "        for i in range(3, 17):\n",
    "            if cur_gab[headers[i]] / anno_cnt < 0.5:\n",
    "                cur_gab[headers[i]] = 0\n",
    "            else:\n",
    "                cur_gab[headers[i]] = 1\n",
    "        del cur_gab['Annotator']\n",
    "        del cur_gab['Hate']\n",
    "        cur_gab['text_id'] = cur_gab.pop('ID')\n",
    "        cur_gab['im'] = cur_gab.pop('IM')\n",
    "        cur_gab['hd'] = cur_gab.pop('HD')\n",
    "        cur_gab['cv'] = cur_gab.pop('CV')\n",
    "        cur_gab['vo'] = cur_gab.pop('VO')\n",
    "        cur_gab['rel'] = cur_gab.pop('REL')\n",
    "        cur_gab['rae'] = cur_gab.pop('RAE')\n",
    "        cur_gab['sxo'] = cur_gab.pop('SXO')\n",
    "        cur_gab['gen'] = cur_gab.pop('GEN')\n",
    "        cur_gab['idl'] = cur_gab.pop('IDL')\n",
    "        cur_gab['nat'] = cur_gab.pop('NAT')\n",
    "        cur_gab['pol'] = cur_gab.pop('POL')\n",
    "        cur_gab['mph'] = cur_gab.pop('MPH')\n",
    "        cur_gab['ex'] = cur_gab.pop('EX') \n",
    "        gab_corpus.append(cur_gab)\n",
    "        cur_id = gab['ID']\n",
    "        anno_cnt = 1\n",
    "        cur_gab = gab\n",
    "    else:\n",
    "        for i in range(3,17):\n",
    "            try:\n",
    "                cur_gab[headers[i]] += gab[headers[i]]\n",
    "            except:\n",
    "                print(\"cur\", type(cur_gab[headers[i]]))\n",
    "                print(\"gab\", type(gab[headers[i]]))\n",
    "        anno_cnt += 1\n",
    "    "
   ]
  },
  {
   "cell_type": "code",
   "execution_count": 69,
   "metadata": {},
   "outputs": [
    {
     "data": {
      "text/plain": [
       "27664"
      ]
     },
     "execution_count": 69,
     "metadata": {},
     "output_type": "execute_result"
    }
   ],
   "source": [
    "len(gab_corpus)"
   ]
  },
  {
   "cell_type": "code",
   "execution_count": 77,
   "metadata": {
    "scrolled": true
   },
   "outputs": [
    {
     "data": {
      "text/plain": [
       "{'Text': 'Ah the PSYOPS antifa crew is back. That’s how I know we are winning.',\n",
       " 'text_id': '27044',\n",
       " 'im': 0,\n",
       " 'hd': 0,\n",
       " 'cv': 0,\n",
       " 'vo': 0,\n",
       " 'rel': 0,\n",
       " 'rae': 0,\n",
       " 'sxo': 0,\n",
       " 'gen': 0,\n",
       " 'idl': 0,\n",
       " 'nat': 0,\n",
       " 'pol': 0,\n",
       " 'mph': 0,\n",
       " 'ex': 0}"
      ]
     },
     "execution_count": 77,
     "metadata": {},
     "output_type": "execute_result"
    }
   ],
   "source": [
    "gab_corpus[0]"
   ]
  },
  {
   "cell_type": "code",
   "execution_count": 76,
   "metadata": {},
   "outputs": [],
   "source": [
    "total_num = len(gab_corpus)\n",
    "val_num = int(total_num * 0.05)\n",
    "test_num = int(total_num * 0.05)\n",
    "train_num = total_num - val_num - test_num"
   ]
  },
  {
   "cell_type": "code",
   "execution_count": 79,
   "metadata": {},
   "outputs": [],
   "source": [
    "import random\n",
    "ghc = gab_corpus\n",
    "random.shuffle(ghc)"
   ]
  },
  {
   "cell_type": "code",
   "execution_count": 82,
   "metadata": {},
   "outputs": [],
   "source": [
    "ghc_val = ghc[:val_num]\n",
    "ghc_test = ghc[val_num:val_num+test_num]\n",
    "ghc_train = ghc[val_num+test_num:]"
   ]
  },
  {
   "cell_type": "code",
   "execution_count": 74,
   "metadata": {},
   "outputs": [],
   "source": [
    "import json\n",
    "def dump_jsonl(data, output_path, append=False):\n",
    "    \"\"\"\n",
    "    Write list of objects to a JSON lines file.\n",
    "    \"\"\"\n",
    "    mode = 'a+' if append else 'w'\n",
    "    with open(output_path, mode, encoding='utf-8') as f:\n",
    "        for line in data:\n",
    "            json_record = json.dumps(line, ensure_ascii=False)\n",
    "            f.write(json_record + '\\n')\n",
    "    print('Wrote {} records to {}'.format(len(data), output_path))"
   ]
  },
  {
   "cell_type": "code",
   "execution_count": 83,
   "metadata": {},
   "outputs": [
    {
     "name": "stdout",
     "output_type": "stream",
     "text": [
      "Wrote 24898 records to train.jsonl\n",
      "Wrote 1383 records to val.jsonl\n",
      "Wrote 1383 records to test.jsonl\n"
     ]
    }
   ],
   "source": [
    "dump_jsonl(ghc_train, 'train.jsonl')\n",
    "dump_jsonl(ghc_val, 'val.jsonl')\n",
    "dump_jsonl(ghc_test, 'test.jsonl')"
   ]
  },
  {
   "cell_type": "code",
   "execution_count": null,
   "metadata": {},
   "outputs": [],
   "source": []
  }
 ],
 "metadata": {
  "kernelspec": {
   "display_name": "Python 3",
   "language": "python",
   "name": "python3"
  },
  "language_info": {
   "codemirror_mode": {
    "name": "ipython",
    "version": 3
   },
   "file_extension": ".py",
   "mimetype": "text/x-python",
   "name": "python",
   "nbconvert_exporter": "python",
   "pygments_lexer": "ipython3",
   "version": "3.8.3"
  }
 },
 "nbformat": 4,
 "nbformat_minor": 4
}
